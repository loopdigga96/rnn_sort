{
 "cells": [
  {
   "cell_type": "code",
   "execution_count": 1,
   "metadata": {},
   "outputs": [],
   "source": [
    "import numpy as np\n",
    "import matplotlib.pyplot as plt\n",
    "%matplotlib inline"
   ]
  },
  {
   "cell_type": "code",
   "execution_count": 2,
   "metadata": {},
   "outputs": [],
   "source": [
    "def sigmoid(x):\n",
    "    return 1 / (1 + np.exp(-x))\n",
    "\n",
    "def sigmoid_der(x):\n",
    "    return sigmoid(x) * (1 - sigmoid(x))\n",
    "\n",
    "def softmax(x):\n",
    "    exps = np.exp(x - np.max(x))\n",
    "    return exps / np.sum(exps)\n",
    "\n",
    "def softmax_der(x):\n",
    "    pass\n"
   ]
  },
  {
   "cell_type": "code",
   "execution_count": 105,
   "metadata": {},
   "outputs": [],
   "source": [
    "class Layer:\n",
    "    def __init__(self):\n",
    "        pass\n",
    "    \n",
    "class Activation:\n",
    "    def __init__(self):\n",
    "        pass\n",
    "    \n",
    "class Dense(Layer):\n",
    "    def __init__(self, input_size, num_of_neurons):\n",
    "        self.w = np.random.rand(num_of_neurons, input_size)\n",
    "        self.b = np.random.rand(num_of_neurons)\n",
    "    \n",
    "    def forward(self, x):\n",
    "        return np.dot(x, self.w.T) + self.b\n",
    "    \n",
    "    def backward(self, x, delta, lr):\n",
    "        nabla_w = np.dot(delta, x)\n",
    "        nabla_b = delta\n",
    "        \n",
    "#         print(nabla_w.shape)\n",
    "#         print(self.w.shape)\n",
    "            \n",
    "        self.w = self.w - lr * nabla_w\n",
    "        # ???\n",
    "        self.b = self.b - lr * np.mean(nabla_b, axis=1)\n",
    "\n",
    "class Relu(Activation):\n",
    "    def forward(self, x):\n",
    "        return np.maximum(0, x)\n",
    "    \n",
    "    def backward(self, x):\n",
    "        return (x > 0).astype(x.dtype)\n",
    "\n",
    "class Sigmoid(Activation):\n",
    "    def forward(self, x):\n",
    "        return 1 / (1 + np.exp(-x))\n",
    "    \n",
    "    def backward(self, x):\n",
    "        return sigmoid(x) * (1 - sigmoid(x))\n",
    "    \n",
    "class MSE:\n",
    "    def forward(self, y, y_hat):\n",
    "        return np.square(y - y_hat).mean(axis=1)\n",
    "    \n",
    "    def backward(self, y_hat, y):\n",
    "        return -2 * np.sum(y - y_hat, axis=1)"
   ]
  },
  {
   "cell_type": "code",
   "execution_count": 109,
   "metadata": {},
   "outputs": [
    {
     "data": {
      "image/png": "[encoded data removed]",
      "text/plain": [
       "<Figure size 432x288 with 1 Axes>"
      ]
     },
     "metadata": {
      "needs_background": "light"
     },
     "output_type": "display_data"
    }
   ],
   "source": [
    "batch_size = 64\n",
    "length = 10\n",
    "num_of_neurons = 10\n",
    "lr = 1e-3\n",
    "\n",
    "x = np.random.rand(2, batch_size, length)\n",
    "y = np.zeros((2, batch_size))\n",
    "\n",
    "activation = Relu()\n",
    "net = [\n",
    "        Dense(length, num_of_neurons),\n",
    "        activation,\n",
    "        Dense(num_of_neurons, length),\n",
    "        activation,\n",
    "        Dense(length, length),\n",
    "        Relu()\n",
    "      ]\n",
    "loss_func = MSE()\n",
    "\n",
    "losses = []\n",
    "for i in range(10):\n",
    "    for idx, batch_x in enumerate(x):\n",
    "        batch_y = batch_x\n",
    "        z_s = []\n",
    "        a_s = [batch_x]\n",
    "\n",
    "        for layer in net:\n",
    "            if isinstance(layer, Layer):\n",
    "                z = layer.forward(a_s[-1])\n",
    "                z_s.append(z)\n",
    "\n",
    "            if isinstance(layer, Activation):\n",
    "                a = layer.forward(z_s[-1])\n",
    "                a_s.append(a)\n",
    "\n",
    "        loss = loss_func.forward(a_s[-1], batch_y)\n",
    "        \n",
    "        l1 = net[0]\n",
    "        l2 = net[2]\n",
    "        l3 = net[4]\n",
    "\n",
    "        # update last layer\n",
    "        grad_loss = loss_func.backward(a_s[-1], batch_y)\n",
    "        grad_activation = net[-1].backward(z_s[-1])\n",
    "        delta = grad_loss * grad_activation.T\n",
    "        l3.backward(a_s[-2], delta, lr)\n",
    "        \n",
    "\n",
    "        grad_activation = activation.backward(z_s[-2])\n",
    "        delta = np.dot(l3.w.T, delta) * grad_activation.T\n",
    "        l2.backward(a_s[-3], delta, lr)\n",
    "        \n",
    "        \n",
    "        grad_activation = activation.backward(z_s[-3])\n",
    "        delta = np.dot(l2.w.T, delta) * grad_activation.T\n",
    "        l1.backward(a_s[-4], delta, lr)\n",
    "        \n",
    "        losses.append(np.mean(loss))\n",
    "\n",
    "plt.plot(losses)\n",
    "plt.ylabel('MSE LOSS')\n",
    "plt.xlabel('Iterations')\n",
    "plt.show()\n",
    "    "
   ]
  },
  {
   "cell_type": "code",
   "execution_count": null,
   "metadata": {},
   "outputs": [],
   "source": []
  }
 ],
 "metadata": {
  "kernelspec": {
   "display_name": "Python 3",
   "language": "python",
   "name": "python3"
  },
  "language_info": {
   "codemirror_mode": {
    "name": "ipython",
    "version": 3
   },
   "file_extension": ".py",
   "mimetype": "text/x-python",
   "name": "python",
   "nbconvert_exporter": "python",
   "pygments_lexer": "ipython3",
   "version": "3.6.6"
  }
 },
 "nbformat": 4,
 "nbformat_minor": 4
}
