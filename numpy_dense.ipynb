{
 "cells": [
  {
   "cell_type": "code",
   "execution_count": 10,
   "metadata": {},
   "outputs": [],
   "source": [
    "import numpy as np\n",
    "import matplotlib.pyplot as plt\n",
    "%matplotlib inline"
   ]
  },
  {
   "cell_type": "code",
   "execution_count": 2,
   "metadata": {},
   "outputs": [],
   "source": [
    "def sigmoid(x):\n",
    "    return 1 / (1 + np.exp(-x))\n",
    "\n",
    "def sigmoid_der(x):\n",
    "    return sigmoid(x) * (1 - sigmoid(x))\n",
    "\n",
    "def softmax(x):\n",
    "    exps = np.exp(x - np.max(x))\n",
    "    return exps / np.sum(exps)\n",
    "\n",
    "def softmax_der(x):\n",
    "    pass\n",
    "\n",
    "def relu(x):\n",
    "    return np.maximum(0, x)\n",
    "\n",
    "def relu_der(x):\n",
    "    return (x > 0).astype(x.dtype)\n",
    "\n",
    "def mse_loss(y_hat, y):\n",
    "    return np.square(y - y_hat).mean(axis=1)\n",
    "\n",
    "def mse_loss_der(y_hat, y):\n",
    "    return -2 * np.sum(y - y_hat, axis=1)"
   ]
  },
  {
   "cell_type": "code",
   "execution_count": 5,
   "metadata": {},
   "outputs": [],
   "source": [
    "class Dense:\n",
    "    def __init__(self, input_size, num_of_neurons):\n",
    "        self.w = np.random.rand(input_size, num_of_neurons)\n",
    "        self.b = np.random.rand(num_of_neurons)\n",
    "    \n",
    "    def forward(self, x):\n",
    "        return np.dot(x, self.w) + self.b\n",
    "    \n",
    "    def backward(self, x, input_grad, lr):\n",
    "        grad_w = np.dot(input_grad, x).T\n",
    "        grad_b = input_grad.T[0]\n",
    "        \n",
    "        self.w -= lr * grad_w\n",
    "        self.b -= lr * grad_b\n",
    "        \n",
    "#         return (grad_w, grad_b)\n",
    "\n",
    "class Relu:\n",
    "    def forward(self, x):\n",
    "        return np.maximum(0, x)\n",
    "    \n",
    "    def backward(self, x):\n",
    "        return (x > 0).astype(x.dtype)\n",
    "\n",
    "class MSE:\n",
    "    def forward(self, y, y_hat):\n",
    "        return np.square(y - y_hat).mean(axis=1)\n",
    "    \n",
    "    def backward(self, y_hat, y):\n",
    "        return -2 * np.sum(y - y_hat, axis=1)"
   ]
  },
  {
   "cell_type": "code",
   "execution_count": 33,
   "metadata": {},
   "outputs": [
    {
     "data": {
      "image/png": "[encoded data removed]",
      "text/plain": [
       "<Figure size 432x288 with 1 Axes>"
      ]
     },
     "metadata": {
      "needs_background": "light"
     },
     "output_type": "display_data"
    }
   ],
   "source": [
    "batch_size = 16\n",
    "length = 5\n",
    "num_of_neurons = 10\n",
    "lr = 1e-3\n",
    "\n",
    "x = np.zeros((batch_size, length))\n",
    "\n",
    "l1 = Dense(length, num_of_neurons)\n",
    "l2 = Dense(num_of_neurons, length)\n",
    "activation = Relu()\n",
    "loss_func = MSE()\n",
    "losses = []\n",
    "\n",
    "for i in range(1000):\n",
    "    z1 = l1.forward(x)\n",
    "    a1 = activation.forward(z1)\n",
    "\n",
    "    z2 = l2.forward(a1)\n",
    "    a2 = activation.forward(z2)\n",
    "\n",
    "    loss = loss_func.forward(a2, x)\n",
    "\n",
    "    # update last layer\n",
    "    grad_loss = loss_func.backward(a2, x)\n",
    "    grad_activation = activation.backward(z2)\n",
    "    grad = grad_loss * grad_activation.T\n",
    "    l2.backward(a1, grad, lr)\n",
    "    \n",
    "    # update hidden layers\n",
    "    grad_activation = activation.backward(z1)\n",
    "    grad = np.dot(grad.T, l1.w) * grad_activation\n",
    "    l1.backward(x, grad.T, lr)\n",
    "    losses.append(np.mean(loss))\n",
    "\n",
    "plt.plot(losses)\n",
    "plt.ylabel('MSE LOSS')\n",
    "plt.xlabel('Iterations')\n",
    "plt.show()"
   ]
  },
  {
   "cell_type": "code",
   "execution_count": null,
   "metadata": {},
   "outputs": [],
   "source": []
  }
 ],
 "metadata": {
  "kernelspec": {
   "display_name": "Python 3",
   "language": "python",
   "name": "python3"
  },
  "language_info": {
   "codemirror_mode": {
    "name": "ipython",
    "version": 3
   },
   "file_extension": ".py",
   "mimetype": "text/x-python",
   "name": "python",
   "nbconvert_exporter": "python",
   "pygments_lexer": "ipython3",
   "version": "3.6.6"
  }
 },
 "nbformat": 4,
 "nbformat_minor": 4
}
